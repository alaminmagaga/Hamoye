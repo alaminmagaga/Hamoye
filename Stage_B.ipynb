{
  "cells": [
    {
      "cell_type": "code",
      "execution_count": 2,
      "metadata": {
        "id": "fMetU7cRDZLy"
      },
      "outputs": [],
      "source": [
        "%%capture\n",
        "# update or install the necessary libraries\n",
        "!pip install openai==v0.28.1\n",
        "!pip install --upgrade python-dotenv\n",
        "!pip install --upgrade langchain"
      ]
    },
    {
      "cell_type": "code",
      "execution_count": 5,
      "metadata": {
        "id": "lumOff6LPeph"
      },
      "outputs": [],
      "source": [
        "import openai\n",
        "import os\n",
        "import IPython\n",
        "from dotenv import load_dotenv"
      ]
    },
    {
      "cell_type": "code",
      "execution_count": 12,
      "metadata": {
        "id": "WODeW4wwPmlZ"
      },
      "outputs": [],
      "source": [
        "import os\n",
        "\n",
        "openai.api_key = ''\n"
      ]
    },
    {
      "cell_type": "code",
      "execution_count": 13,
      "metadata": {
        "id": "UyMDUrrlPerc"
      },
      "outputs": [],
      "source": [
        "def set_open_params(\n",
        "    model=\"gpt-3.5-turbo-instruct\",\n",
        "    temperature=0.7,\n",
        "    max_tokens=256,\n",
        "    top_p=1,\n",
        "    frequency_penalty=0,\n",
        "    presence_penalty=0,\n",
        "):\n",
        "    \"\"\"set openai parameter\"\"\"\n",
        "    openai_params = {}\n",
        "\n",
        "    openai_params['model'] = model\n",
        "    openai_params['temperature'] = temperature\n",
        "    openai_params['max_tokens'] = max_tokens\n",
        "    openai_params['top_p'] = top_p\n",
        "    openai_params['frequency_penalty'] = frequency_penalty\n",
        "    openai_params['presence_penalty'] = presence_penalty\n",
        "    return openai_params\n",
        "\n",
        "def get_completion(params, prompt):\n",
        "    \"\"\"Get completion from openai api\"\"\"\n",
        "    response = openai.Completion.create(\n",
        "        engine = params['model'],\n",
        "        prompt = prompt,\n",
        "        temperature = params['temperature'],\n",
        "        max_tokens = params['max_tokens'],\n",
        "        top_p = params['top_p'],\n",
        "        frequency_penalty = params['frequency_penalty'],\n",
        "        presence_penalty = params['presence_penalty'],\n",
        "    )\n",
        "    return response"
      ]
    },
    {
      "cell_type": "code",
      "execution_count": 14,
      "metadata": {
        "id": "RkFThMARE2-b"
      },
      "outputs": [],
      "source": [
        "params = set_open_params()\n",
        "\n",
        "prompt = \"Roses are\"\n",
        "\n",
        "response = get_completion(params, prompt)"
      ]
    },
    {
      "cell_type": "code",
      "execution_count": 15,
      "metadata": {
        "colab": {
          "base_uri": "https://localhost:8080/",
          "height": 72
        },
        "id": "SBaa2TtZR8W3",
        "outputId": "29dc72a2-130a-4601-d037-2c190361eb16"
      },
      "outputs": [
        {
          "data": {
            "application/vnd.google.colaboratory.intrinsic+json": {
              "type": "string"
            },
            "text/plain": [
              "\" red, \\nviolets are blue, \\nsugar is sweet, \\nand so are you.\\n\\nBut the roses wilt, \\nthe violets fade, \\nthe sugar dissolves, \\nand yet your love never strays.\\n\\nYou are my constant, \\nmy rock, my light, \\nin a world that changes, \\nyou remain my delight.\\n\\nSo here's my love, \\nin the form of a rhyme, \\nto show you my heart, \\nuntil the end of time.\""
            ]
          },
          "execution_count": 15,
          "metadata": {},
          "output_type": "execute_result"
        }
      ],
      "source": [
        "response.choices[0].text"
      ]
    },
    {
      "cell_type": "code",
      "execution_count": 17,
      "metadata": {
        "colab": {
          "base_uri": "https://localhost:8080/",
          "height": 116
        },
        "id": "xEBvhwptSCxW",
        "outputId": "7c950d4e-52fe-4f62-c03f-6d8024cd4912"
      },
      "outputs": [
        {
          "data": {
            "text/markdown": [
              " red, \n",
              "violets are blue, \n",
              "sugar is sweet, \n",
              "and so are you.\n",
              "\n",
              "But the roses wilt, \n",
              "the violets fade, \n",
              "the sugar dissolves, \n",
              "and yet your love never strays.\n",
              "\n",
              "You are my constant, \n",
              "my rock, my light, \n",
              "in a world that changes, \n",
              "you remain my delight.\n",
              "\n",
              "So here's my love, \n",
              "in the form of a rhyme, \n",
              "to show you my heart, \n",
              "until the end of time."
            ],
            "text/plain": [
              "<IPython.core.display.Markdown object>"
            ]
          },
          "execution_count": 17,
          "metadata": {},
          "output_type": "execute_result"
        }
      ],
      "source": [
        "IPython.display.Markdown(response.choices[0].text)"
      ]
    },
    {
      "cell_type": "code",
      "execution_count": 18,
      "metadata": {
        "colab": {
          "base_uri": "https://localhost:8080/",
          "height": 140
        },
        "id": "C4kBJhHWSd8T",
        "outputId": "9947ba4a-4f49-4b62-87c3-c0c5fbd9ea79"
      },
      "outputs": [
        {
          "data": {
            "text/markdown": [
              " red, violets are blue\n",
              "Sugar is sweet, and so are you\n",
              "But the roses wilt, and the violets fade\n",
              "But my love for you will never degrade\n",
              "\n",
              "You are my sunshine on a cloudy day\n",
              "My guiding light when I lose my way\n",
              "With you by my side, I can conquer all\n",
              "Together we stand, we will never fall\n",
              "\n",
              "Your smile brightens up my darkest night\n",
              "Your touch fills me with pure delight\n",
              "I am grateful for every moment spent\n",
              "With you, my love, my heart is content\n",
              "\n",
              "I promise to love you, through thick and thin\n",
              "To be your rock, your shelter, your kin\n",
              "I'll hold your hand, and never let go\n",
              "Together we'll face whatever life may throw\n",
              "\n",
              "So here's my heart, my love, my all\n",
              "With you, I'll stand tall, I'll never fall\n",
              "Roses may wither, and violets may die\n",
              "But my love for you will never say goodbye."
            ],
            "text/plain": [
              "<IPython.core.display.Markdown object>"
            ]
          },
          "execution_count": 18,
          "metadata": {},
          "output_type": "execute_result"
        }
      ],
      "source": [
        "params = set_open_params(temperature=0)\n",
        "prompt = \"Roses are\"\n",
        "response = get_completion(params, prompt)\n",
        "IPython.display.Markdown(response.choices[0].text)"
      ]
    },
    {
      "cell_type": "code",
      "execution_count": 19,
      "metadata": {
        "colab": {
          "base_uri": "https://localhost:8080/",
          "height": 64
        },
        "id": "HXTZOga3SnmQ",
        "outputId": "09d3e75f-ec81-40c5-d417-13586433a99a"
      },
      "outputs": [
        {
          "data": {
            "text/markdown": [
              "\n",
              "\n",
              "Keras is a popular deep learning API written in Python that runs on top of TensorFlow, an open-source deep learning framework developed by Google, which allows for mathematical computations and manipulation between numerical tensors and can run on various hardwares."
            ],
            "text/plain": [
              "<IPython.core.display.Markdown object>"
            ]
          },
          "execution_count": 19,
          "metadata": {},
          "output_type": "execute_result"
        }
      ],
      "source": [
        "params = set_open_params()\n",
        "prompt = \"\"\"Keras is a deep learning API written in Python that runs on top of TensorFlow.\n",
        "    It is quite popular among deep learning users because of its ease of use.\n",
        "    TensorFlow is an end-to-end open-source deep learning framework developed and maintained by Google.\n",
        "    Similar to Numpy, TensorFlow allows for mathematical computations and manipulation between numerical tensors, runs on CPUs, GPUs, and TPUs.\n",
        "    Keras was incorporated in TensorFlow 2.0 (the recent version) as tf.keras (high-level API) and can run on the aforementioned hardwares.\n",
        "    TensorFlow also allows for low-level operations with the TensorFlow Core API.\n",
        "\n",
        "    Explain the above in one sentence:\"\"\"\n",
        "response = get_completion(params, prompt)\n",
        "IPython.display.Markdown(response.choices[0].text)"
      ]
    },
    {
      "cell_type": "code",
      "execution_count": 20,
      "metadata": {
        "colab": {
          "base_uri": "https://localhost:8080/",
          "height": 46
        },
        "id": "zOJmfHyJSsab",
        "outputId": "70458a27-1a4b-4bb2-e77c-1110bbb6c5b8"
      },
      "outputs": [
        {
          "data": {
            "text/markdown": [
              " To protect global stability from inner or extraterrestrial threats."
            ],
            "text/plain": [
              "<IPython.core.display.Markdown object>"
            ]
          },
          "execution_count": 20,
          "metadata": {},
          "output_type": "execute_result"
        }
      ],
      "source": [
        "prompt = \"\"\"Answer the question based on the context below. Keep the answer short and concise. Respond \"Unsure about answer\" if not sure about the answer.\n",
        "\n",
        "Context: The Avengers were a team of extraordinary individuals, with either superpowers or other special characteristics. Though primarily affiliated with the interests of the United States of America, the group's purpose was to protect global stability from inner or extraterrestrial threats. The Avengers were first assembled by S.H.I.E.L.D. as a result of the Avengers Initiative, when Loki invaded Earth with his Chitauri army. The team, consisting of Iron Man, Captain America, Hulk, Thor, Black Widow and Hawkeye defeated Loki and went their separate ways for a while.\n",
        "\n",
        "Question: Why were the Avengers formed?\n",
        "\n",
        "Answer:\"\"\"\n",
        "\n",
        "response = get_completion(params, prompt)\n",
        "IPython.display.Markdown(response.choices[0].text)"
      ]
    },
    {
      "cell_type": "code",
      "execution_count": 21,
      "metadata": {
        "colab": {
          "base_uri": "https://localhost:8080/",
          "height": 46
        },
        "id": "N2n0asD4SxOJ",
        "outputId": "8f121e8e-d682-4351-807e-92e7c877f01f"
      },
      "outputs": [
        {
          "data": {
            "text/markdown": [
              " Positive "
            ],
            "text/plain": [
              "<IPython.core.display.Markdown object>"
            ]
          },
          "execution_count": 21,
          "metadata": {},
          "output_type": "execute_result"
        }
      ],
      "source": [
        "prompt = \"\"\"Classify the text into neutral, negative or positive.\n",
        "\n",
        "Text: I think the Avengers Endgame was an interesting movie..\n",
        "\n",
        "Sentiment:\"\"\"\n",
        "\n",
        "response = get_completion(params, prompt)\n",
        "IPython.display.Markdown(response.choices[0].text)"
      ]
    },
    {
      "cell_type": "code",
      "execution_count": 22,
      "metadata": {
        "colab": {
          "base_uri": "https://localhost:8080/",
          "height": 81
        },
        "id": "CXUmS_7dSzyS",
        "outputId": "6c2306ee-7bee-413e-a366-ac3ff5124740"
      },
      "outputs": [
        {
          "data": {
            "text/markdown": [
              " The big bang theory is a scientific explanation for the origin and evolution of the universe. It proposes that the universe began as a singularity, a point of infinite density and temperature, about 13.8 billion years ago. From this point, the universe expanded and cooled, forming the galaxies, stars, and planets that exist today. The theory is supported by evidence such as the cosmic microwave background radiation and the observed redshift of galaxies."
            ],
            "text/plain": [
              "<IPython.core.display.Markdown object>"
            ]
          },
          "execution_count": 22,
          "metadata": {},
          "output_type": "execute_result"
        }
      ],
      "source": [
        "prompt = \"\"\"The following is a conversation with an AI research assistant. The assistant tone is technical and scientific.\n",
        "\n",
        "Human: Hello, who are you?\n",
        "AI: Greeting! I am an AI research assistant. How can I help you today?\n",
        "Human: Can you tell me about the big bang theory?\n",
        "AI:\"\"\"\n",
        "\n",
        "response = get_completion(params, prompt)\n",
        "IPython.display.Markdown(response.choices[0].text)"
      ]
    },
    {
      "cell_type": "code",
      "execution_count": 23,
      "metadata": {
        "colab": {
          "base_uri": "https://localhost:8080/",
          "height": 64
        },
        "id": "-Y6fMJ60S4-f",
        "outputId": "a11ff9b3-4d1c-4c1a-abea-1f9b69563684"
      },
      "outputs": [
        {
          "data": {
            "text/markdown": [
              "\n",
              "SELECT s.StudentId, s.StudentName\n",
              "FROM students s\n",
              "INNER JOIN departments d ON s.DepartmentId = d.DepartmentId\n",
              "WHERE d.DepartmentName = 'Computer Science'"
            ],
            "text/plain": [
              "<IPython.core.display.Markdown object>"
            ]
          },
          "execution_count": 23,
          "metadata": {},
          "output_type": "execute_result"
        }
      ],
      "source": [
        "prompt = \"\\\"\\\"\\\"\\nTable departments, columns = [DepartmentId, DepartmentName]\\nTable students, columns = [DepartmentId, StudentId, StudentName]\\nCreate a PostgreSQL query for all students in the Computer Science Department\\n\\\"\\\"\\\"\"\n",
        "\n",
        "response = get_completion(params, prompt)\n",
        "IPython.display.Markdown(response.choices[0].text)"
      ]
    },
    {
      "cell_type": "code",
      "execution_count": 24,
      "metadata": {
        "colab": {
          "base_uri": "https://localhost:8080/",
          "height": 93
        },
        "id": "_MtY4RkPS-m0",
        "outputId": "5e442c94-766e-4bdc-e82f-cd860dbcb266"
      },
      "outputs": [
        {
          "data": {
            "text/markdown": [
              "\n",
              "\n",
              "Step 1: Identify the odd numbers\n",
              "The odd numbers in this group are 15, 5, 13, 7, and 1.\n",
              "\n",
              "Step 2: Add the odd numbers\n",
              "15 + 5 + 13 + 7 + 1 = 41\n",
              "\n",
              "Step 3: Determine if the result is odd or even\n",
              "The result, 41, is an odd number. "
            ],
            "text/plain": [
              "<IPython.core.display.Markdown object>"
            ]
          },
          "execution_count": 24,
          "metadata": {},
          "output_type": "execute_result"
        }
      ],
      "source": [
        "prompt = \"\"\"The odd numbers in this group add up to an even number: 15, 32, 5, 13, 82, 7, 1.\n",
        "\n",
        "Solve by breaking the problem into steps. First, identify the odd numbers, add them, and indicate whether the result is odd or even.\"\"\"\n",
        "\n",
        "response = get_completion(params, prompt)\n",
        "IPython.display.Markdown(response.choices[0].text)"
      ]
    },
    {
      "cell_type": "code",
      "execution_count": null,
      "metadata": {
        "id": "x-jZ8sT6TBLs"
      },
      "outputs": [],
      "source": []
    }
  ],
  "metadata": {
    "colab": {
      "provenance": []
    },
    "kernelspec": {
      "display_name": "Python 3",
      "name": "python3"
    },
    "language_info": {
      "name": "python"
    }
  },
  "nbformat": 4,
  "nbformat_minor": 0
}
